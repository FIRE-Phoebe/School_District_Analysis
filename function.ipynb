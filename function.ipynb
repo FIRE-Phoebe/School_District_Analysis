{
 "cells": [
  {
   "cell_type": "code",
   "execution_count": 2,
   "id": "0360f28e",
   "metadata": {},
   "outputs": [],
   "source": [
    "#Define the function 'say_hello' so it prints 'hello!' when called.\n",
    "def say_hello():\n",
    "    print('Hello!')"
   ]
  },
  {
   "cell_type": "code",
   "execution_count": 4,
   "id": "a919fcfe",
   "metadata": {},
   "outputs": [
    {
     "name": "stdout",
     "output_type": "stream",
     "text": [
      "Hello!\n"
     ]
    }
   ],
   "source": [
    "#Call the function.\n",
    "say_hello()\n"
   ]
  },
  {
   "cell_type": "code",
   "execution_count": 9,
   "id": "12abf025",
   "metadata": {},
   "outputs": [
    {
     "name": "stdout",
     "output_type": "stream",
     "text": [
      "Hi, Phoebe!\n"
     ]
    }
   ],
   "source": [
    "#Define the function 'say_something' so it prints whatever is passed as the variable when we call.\n",
    "def say_something(something):\n",
    "    print(something)\n",
    "# call the function.    \n",
    "say_something('Hi, Phoebe!')"
   ]
  },
  {
   "cell_type": "code",
   "execution_count": 10,
   "id": "89ebacb0",
   "metadata": {},
   "outputs": [
    {
     "name": "stdout",
     "output_type": "stream",
     "text": [
      "Hi, my name is Jane.I'm learning Pyhton!\n"
     ]
    }
   ],
   "source": [
    "Jane_says=\"Hi, my name is Jane.I'm learning Pyhton!\"\n",
    "say_something(Jane_says)"
   ]
  },
  {
   "cell_type": "code",
   "execution_count": 21,
   "id": "2a3b1a6a",
   "metadata": {},
   "outputs": [
    {
     "data": {
      "text/plain": [
       "74.9808526933878"
      ]
     },
     "execution_count": 21,
     "metadata": {},
     "output_type": "execute_result"
    }
   ],
   "source": [
    "#Define a function that calculates the percentage of students that pass both\n",
    "#math and reading and returns the passing percntage when the function is called.\n",
    "#assign the passing_math_count and the toal student-count values\n",
    "passing_math_count=29370\n",
    "total_student_count=39170\n",
    "\n",
    "def passing_math_percent(passing_math_count, total_student_count):\n",
    "    return passing_math_count/float(total_student_count)*100\n",
    "\n",
    "#call the funtion\n",
    "passing_math_percent(passing_math_count,total_student_count)"
   ]
  },
  {
   "cell_type": "code",
   "execution_count": 22,
   "id": "487f2ba5",
   "metadata": {},
   "outputs": [
    {
     "data": {
      "text/plain": [
       "0    B\n",
       "1    C\n",
       "2    B\n",
       "3    D\n",
       "dtype: object"
      ]
     },
     "execution_count": 22,
     "metadata": {},
     "output_type": "execute_result"
    }
   ],
   "source": [
    "#a ist of my grades.\n",
    "my_grades=['B','C','B','D']\n",
    "\n",
    "#Import pandas.\n",
    "import pandas as pd\n",
    "#convert my_grades to series.\n",
    "my_grades=pd.Series(my_grades)\n",
    "my_grades"
   ]
  },
  {
   "cell_type": "code",
   "execution_count": 23,
   "id": "e88ae4c7",
   "metadata": {},
   "outputs": [
    {
     "data": {
      "text/plain": [
       "0    A\n",
       "1    B\n",
       "2    A\n",
       "3    C\n",
       "dtype: object"
      ]
     },
     "execution_count": 23,
     "metadata": {},
     "output_type": "execute_result"
    }
   ],
   "source": [
    "#change the grades by one letter grade.\n",
    "my_grades.map({'B':'A','C':'B','D':'C'})"
   ]
  },
  {
   "cell_type": "code",
   "execution_count": 25,
   "id": "b722003e",
   "metadata": {},
   "outputs": [
    {
     "name": "stdout",
     "output_type": "stream",
     "text": [
      "92\n",
      "85\n",
      "87\n",
      "98\n"
     ]
    }
   ],
   "source": [
    "#using the format()funtion.\n",
    "my_grades=[92.34,84.56,86.78,98.32]\n",
    "\n",
    "for grade in my_grades:\n",
    "    print('{:.0f}'.format(grade))"
   ]
  },
  {
   "cell_type": "code",
   "execution_count": 27,
   "id": "27f497f3",
   "metadata": {},
   "outputs": [
    {
     "data": {
      "text/plain": [
       "0    92\n",
       "1    85\n",
       "2    87\n",
       "3    78\n",
       "dtype: object"
      ]
     },
     "execution_count": 27,
     "metadata": {},
     "output_type": "execute_result"
    }
   ],
   "source": [
    "#convert the numerical grades to a Series.\n",
    "my_grades=pd.Series([92.34,84.56,86.78,78.32])\n",
    "\n",
    "\n",
    "#format the grades to the nearest whole number percent.\n",
    "my_grades.map('{:.0f}'.format)"
   ]
  },
  {
   "cell_type": "code",
   "execution_count": null,
   "id": "a754dd1c",
   "metadata": {},
   "outputs": [],
   "source": []
  }
 ],
 "metadata": {
  "kernelspec": {
   "display_name": "PythonData",
   "language": "python",
   "name": "pythondata"
  },
  "language_info": {
   "codemirror_mode": {
    "name": "ipython",
    "version": 3
   },
   "file_extension": ".py",
   "mimetype": "text/x-python",
   "name": "python",
   "nbconvert_exporter": "python",
   "pygments_lexer": "ipython3",
   "version": "3.7.11"
  }
 },
 "nbformat": 4,
 "nbformat_minor": 5
}
